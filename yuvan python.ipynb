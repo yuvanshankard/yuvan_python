{
  "nbformat": 4,
  "nbformat_minor": 0,
  "metadata": {
    "colab": {
      "provenance": []
    },
    "kernelspec": {
      "name": "python3",
      "display_name": "Python 3"
    },
    "language_info": {
      "name": "python"
    }
  },
  "cells": [
    {
      "cell_type": "code",
      "execution_count": null,
      "metadata": {
        "id": "FD1uOoZDdDHD"
      },
      "outputs": [],
      "source": [
        "1) Python?\n",
        " Python is an interpreted, object-oriented, high-level programming language with dynamic semantics developed by Guido van Rossum.\n",
        " It was originally released in 1991. Designed to be easy as well as fun, the name \"Python\" is a nod to the British comedy group Monty Python.\n",
        " Python has a reputation as a beginner-friendly language, replacing Java as the most widely used introductory language\n",
        " because it handles much of the complexity for the user, allowing beginners to focus on fully grasping programming concepts rather than minute details.\n",
        " Python is used for server-side web development, software development, mathematics, and system scripting, and is popular for Rapid Application Development\n",
        "and as a scripting or glue language to tie existing components because of its high-level, built-in data structures, dynamic typing, and dynamic binding."
      ]
    },
    {
      "cell_type": "code",
      "source": [
        "2)\n",
        "print('Create User')\n",
        "User_Name = input('Create User_Name\\n')\n",
        "Password = input('Create Password\\n')\n",
        "Enter_User = input('Enter User Name\\n')\n",
        "Enter_Password=input('Enter the Password\\n')\n",
        "if User_Name == Enter_User and Password == Enter_Password:\n",
        "    print(\"Successfully Login\")\n",
        "else:\n",
        "    print('Incorrect Username or Password')"
      ],
      "metadata": {
        "colab": {
          "base_uri": "https://localhost:8080/"
        },
        "id": "RF63fG2jdLfp",
        "outputId": "41a90a5b-1c44-44df-9bd5-e626a144e2f9"
      },
      "execution_count": 2,
      "outputs": [
        {
          "output_type": "stream",
          "name": "stdout",
          "text": [
            "Create User\n",
            "Create User_Name\n",
            "yuvan\n",
            "Create Password\n",
            "yuvan123\n",
            "Enter User Name\n",
            "yuvan\n",
            "Enter the Password\n",
            "yuvan12\n",
            "Incorrect Username or Password\n"
          ]
        }
      ]
    },
    {
      "cell_type": "code",
      "source": [
        "3)\n",
        "print('Find the odd or Even')\n",
        "Type_Number = int(input('Enter the number\\n'))\n",
        "if Type_Number % 2 == 0:\n",
        " print(\"its even number\")\n",
        "else:\n",
        "     print(\"its odd number\")"
      ],
      "metadata": {
        "colab": {
          "base_uri": "https://localhost:8080/"
        },
        "id": "ezZb8eX-d48J",
        "outputId": "5b239eb7-a65f-4fb3-a0f9-f3e5f8b26093"
      },
      "execution_count": 3,
      "outputs": [
        {
          "output_type": "stream",
          "name": "stdout",
          "text": [
            "Find the odd or Even\n",
            "Enter the number\n",
            "34\n",
            "its even number\n"
          ]
        }
      ]
    },
    {
      "cell_type": "code",
      "source": [
        "4)\n",
        "print('List of Fruits')\n",
        "Fruits={'banana','starfruit','mango','pears','banana','apple','jackfruit','watermelon'}\n",
        "for x in Fruits:\n",
        "    print(x)"
      ],
      "metadata": {
        "colab": {
          "base_uri": "https://localhost:8080/"
        },
        "id": "DxP1qCSzeLnE",
        "outputId": "baa53373-079e-43a3-9372-8b9ea94bd9e9"
      },
      "execution_count": 4,
      "outputs": [
        {
          "output_type": "stream",
          "name": "stdout",
          "text": [
            "List of Fruits\n",
            "starfruit\n",
            "pears\n",
            "apple\n",
            "jackfruit\n",
            "banana\n",
            "watermelon\n",
            "mango\n"
          ]
        }
      ]
    }
  ]
}